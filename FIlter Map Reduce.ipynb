{
 "cells": [
  {
   "cell_type": "markdown",
   "metadata": {},
   "source": [
    "## Funções Filter, Map e Reduce"
   ]
  },
  {
   "cell_type": "code",
   "execution_count": 1,
   "metadata": {},
   "outputs": [],
   "source": [
    "import numpy as np"
   ]
  },
  {
   "cell_type": "code",
   "execution_count": 2,
   "metadata": {},
   "outputs": [],
   "source": [
    "lst = [1,2,3,4,5,6,7,8,9,10]"
   ]
  },
  {
   "cell_type": "markdown",
   "metadata": {},
   "source": [
    "###### Map()\n",
    "map(): aplica uma função em cada um dos elementos de uma lista;"
   ]
  },
  {
   "cell_type": "code",
   "execution_count": 3,
   "metadata": {},
   "outputs": [
    {
     "data": {
      "text/plain": [
       "[2, 4, 6, 8, 10, 12, 14, 16, 18, 20]"
      ]
     },
     "execution_count": 3,
     "metadata": {},
     "output_type": "execute_result"
    }
   ],
   "source": [
    "#A função map() serve para aplicarmos uma função a cada um dos elementos passado em lista como argumento a ela.\n",
    "#map(funcao_aplicada,lista de elementos)\n",
    "resultado = list(map(lambda x: x *2, lst))\n",
    "#A função MAP retorna uma objeto do tipo MAP, sendo necessário transformar em um tipo list            \n",
    "resultado"
   ]
  },
  {
   "cell_type": "markdown",
   "metadata": {},
   "source": [
    "###### Reduce()\n",
    "reduce(): aplica uma função nos elementos da lista, reduzindo a um elemento só;"
   ]
  },
  {
   "cell_type": "code",
   "execution_count": 4,
   "metadata": {},
   "outputs": [
    {
     "name": "stdout",
     "output_type": "stream",
     "text": [
      "55\n",
      "10\n"
     ]
    }
   ],
   "source": [
    "#a funcao reduce precisa ser importada\n",
    "from functools import reduce\n",
    "#A funcao reduce() aplica uma funcao em todos os valores passados em uma lista e retorna apenas um valor\n",
    "#reduce(funcao_aplicada,lista de elementos)\n",
    "soma = reduce(lambda x, y : x + y, lst)\n",
    "print(soma)\n",
    "#é possível usar condicionais. O if funciona da seguinte maneira: \n",
    "#    depois dos parâmetros x e y, colocamos o resultado que satisfaz a condição de if no lado esquerdo, \n",
    "#    e após o else o resultado que desejamos se a condição for falsa.\n",
    "maior = reduce(lambda x,y: x if (x > y) else y, lst)\n",
    "print(maior)"
   ]
  },
  {
   "cell_type": "markdown",
   "metadata": {},
   "source": [
    "###### Filter()\n",
    "filter(): filtra elementos de uma lista por meio de uma função;"
   ]
  },
  {
   "cell_type": "code",
   "execution_count": 5,
   "metadata": {},
   "outputs": [
    {
     "name": "stdout",
     "output_type": "stream",
     "text": [
      "[2, 4, 6, 8, 10]\n",
      "[4, 6]\n",
      "[]\n"
     ]
    }
   ],
   "source": [
    "#A fução filter() filtra os elementos passados na função, de acordo com a função passada como primeiro argumento.\n",
    "#filter(funcao_aplicada,lista de elementos)\n",
    "#Filter para filtrar numeros pares\n",
    "print(list(filter(lambda x : x % 2 == 0, lst)))\n",
    "#Filter para listar todos os valores da minha lista diferentes de 5, menor que 7 e maior que 3\n",
    "print(list(filter(lambda x : x != 5 and x < 7 and x > 3,lst)))\n",
    "#Filter para filtrar todos os numeros menores que zero, como minha lista não tem numeros negativos ela retornou vazia\n",
    "print(list(filter(lambda x : x < 0,lst)))"
   ]
  }
 ],
 "metadata": {
  "kernelspec": {
   "display_name": "Python 3",
   "language": "python",
   "name": "python3"
  },
  "language_info": {
   "codemirror_mode": {
    "name": "ipython",
    "version": 3
   },
   "file_extension": ".py",
   "mimetype": "text/x-python",
   "name": "python",
   "nbconvert_exporter": "python",
   "pygments_lexer": "ipython3",
   "version": "3.7.6"
  }
 },
 "nbformat": 4,
 "nbformat_minor": 4
}
